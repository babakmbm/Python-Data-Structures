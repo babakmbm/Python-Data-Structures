{
 "cells": [
  {
   "cell_type": "markdown",
   "metadata": {},
   "source": [
    "### Middle letter\n",
    "Write a function named mid that takes a string as its parameter. Your function should extract and return the middle letter. If there is no middle letter, your function should return the empty string.\n",
    "\n",
    "For example, mid(\"abc\") should return \"b\" and mid(\"aaaa\") should return \"\"."
   ]
  },
  {
   "cell_type": "code",
   "execution_count": 5,
   "metadata": {},
   "outputs": [
    {
     "data": {
      "text/plain": [
       "'b'"
      ]
     },
     "execution_count": 5,
     "metadata": {},
     "output_type": "execute_result"
    }
   ],
   "source": [
    "def mid(s):\n",
    "    length = len(s)\n",
    "    if length %2 == 0:\n",
    "        return \"\"\n",
    "    else:\n",
    "        return s[int(length/2)]\n",
    "    \n",
    "mid(\"abc\")"
   ]
  },
  {
   "cell_type": "markdown",
   "metadata": {},
   "source": [
    "### Online status\n",
    "The aim of this challenge is, given a dictionary of people's online status, to count the number of people who are online.\n",
    "\n",
    "For example, consider the following dictionary:\n",
    "<code>\n",
    "statuses = {\n",
    "    \"Alice\": \"online\",\n",
    "    \"Bob\": \"offline\",\n",
    "    \"Eve\": \"online\",\n",
    "}\n",
    "</code>\n",
    "In this case, the number of people online is 2.\n",
    "\n",
    "Write a function named online_count that takes one parameter. The parameter is a dictionary that maps from strings of names to the string \"online\" or \"offline\", as seen above.\n",
    "\n",
    "Your function should return the number of people who are online."
   ]
  },
  {
   "cell_type": "code",
   "execution_count": 11,
   "metadata": {},
   "outputs": [
    {
     "data": {
      "text/plain": [
       "3"
      ]
     },
     "execution_count": 11,
     "metadata": {},
     "output_type": "execute_result"
    }
   ],
   "source": [
    "def online_count(dic):\n",
    "    online_counter = 0\n",
    "    for key in dic:\n",
    "        if dic[key] == \"online\":\n",
    "            online_counter+=1\n",
    "    return online_counter\n",
    "        \n",
    "statuses = {\n",
    "    \"Alice\": \"online\",\n",
    "    \"Bob\": \"offline\",\n",
    "    \"Eve\": \"online\",\n",
    "    \"babak\": \"online\",\n",
    "}\n",
    "\n",
    "online_count(statuses)"
   ]
  },
  {
   "cell_type": "markdown",
   "metadata": {},
   "source": [
    "### Randomness\n",
    "Define a function, random_number, that takes no parameters. The function must generate a random integer between 1 and 100, both inclusive, and return it.\n",
    "\n",
    "Calling the function multiple times should (usually) return different numbers.\n",
    "\n",
    "For example, calling random_number() some times might first return 42, then 63, then 1."
   ]
  },
  {
   "cell_type": "code",
   "execution_count": 20,
   "metadata": {},
   "outputs": [
    {
     "data": {
      "text/plain": [
       "36"
      ]
     },
     "execution_count": 20,
     "metadata": {},
     "output_type": "execute_result"
    }
   ],
   "source": [
    "from random import randint\n",
    "def random_number():\n",
    "    return randint(1,100)\n",
    "\n",
    "random_number()"
   ]
  },
  {
   "cell_type": "markdown",
   "metadata": {},
   "source": [
    "### Type check\n",
    "Write a function named only_ints that takes two parameters. Your function should return True if both parameters are integers, and False otherwise.\n",
    "\n",
    "For example, calling only_ints(1, 2) should return True, while calling only_ints(\"a\", 1) should return False."
   ]
  },
  {
   "cell_type": "code",
   "execution_count": 29,
   "metadata": {
    "scrolled": true
   },
   "outputs": [
    {
     "name": "stdout",
     "output_type": "stream",
     "text": [
      "True False\n"
     ]
    }
   ],
   "source": [
    "def only_ints(a, b):\n",
    "    if type(a) is int and type(b) is int:\n",
    "        return True\n",
    "    else:\n",
    "        return False\n",
    "print(only_ints(1, 2), only_ints(\"a\", 1))"
   ]
  },
  {
   "cell_type": "markdown",
   "metadata": {},
   "source": [
    "### Double letters\n",
    "The goal of this challenge is to analyze a string to check if it contains two of the same letter in a row. For example, the string \"hello\" has l twice in a row, while the string \"nono\" does not have two identical letters in a row.\n",
    "\n",
    "Define a function named double_letters that takes a single parameter. The parameter is a string. Your function must return True if there are two identical letters in a row in the string, and False otherwise."
   ]
  },
  {
   "cell_type": "code",
   "execution_count": 39,
   "metadata": {},
   "outputs": [
    {
     "data": {
      "text/plain": [
       "True"
      ]
     },
     "execution_count": 39,
     "metadata": {},
     "output_type": "execute_result"
    }
   ],
   "source": [
    "def double_letters(s):\n",
    "    for i in range(1, len(s)):\n",
    "        if s[i]==s[i-1]:\n",
    "            return True\n",
    "    return False\n",
    "double_letters(\"babaak\")"
   ]
  },
  {
   "cell_type": "markdown",
   "metadata": {},
   "source": [
    "### Thousands separator\n",
    "Write a function named format_number that takes a non-negative number as its only parameter.\n",
    "\n",
    "Your function should convert the number to a string and add commas as a thousands separator.\n",
    "\n",
    "For example, calling format_number(1000000) should return \"1,000,000\"."
   ]
  },
  {
   "cell_type": "code",
   "execution_count": 397,
   "metadata": {},
   "outputs": [
    {
     "data": {
      "text/plain": [
       "'1,234,567,891,234,567'"
      ]
     },
     "execution_count": 397,
     "metadata": {},
     "output_type": "execute_result"
    }
   ],
   "source": [
    "def format_number(number):\n",
    "    count = 0\n",
    "    Num=\"\"\n",
    "    number = str(number)\n",
    "    for i in range(len(number)-1, -1,-1):\n",
    "        count+=1;\n",
    "        if count == 3 and i!=0:\n",
    "            Num = Num + number[i] + ','\n",
    "            count = 0\n",
    "        else:\n",
    "            Num = Num + number[i]\n",
    "                \n",
    "    return Num[::-1]\n",
    "format_number(1234567891234567) #1,234,567,891,234,567"
   ]
  },
  {
   "cell_type": "markdown",
   "metadata": {},
   "source": [
    "### Counting parameters\n",
    "Define a function param_count that takes a variable number of parameters. The function should return the number of arguments it was called with.\n",
    "\n",
    "For example, param_count() should return 0, while param_count(2, 3, 4) should return 3."
   ]
  },
  {
   "cell_type": "code",
   "execution_count": 406,
   "metadata": {},
   "outputs": [
    {
     "data": {
      "text/plain": [
       "3"
      ]
     },
     "execution_count": 406,
     "metadata": {},
     "output_type": "execute_result"
    }
   ],
   "source": [
    "def param_count(*argv): \n",
    "    count = 0\n",
    "    for arg in argv: \n",
    "        count +=1\n",
    "    return count\n",
    "param_count(5,5,89)"
   ]
  },
  {
   "cell_type": "markdown",
   "metadata": {},
   "source": [
    "### List xor\n",
    "Define a function named list_xor. Your function should take three parameters: n, list1 and list2.\n",
    "\n",
    "Your function must return whether n is exclusively in list1 or list2.\n",
    "\n",
    "In other words, if n is in both lists or in none of the lists, return False. If n is in only one of the lists, return True.\n",
    "\n",
    "For example:\n",
    "<br>\n",
    "<code>\n",
    "list_xor(1, [1, 2, 3], [4, 5, 6]) == True\n",
    "list_xor(1, [0, 2, 3], [1, 5, 6]) == True\n",
    "list_xor(1, [1, 2, 3], [1, 5, 6]) == False\n",
    "list_xor(1, [0, 0, 0], [4, 5, 6]) == False\n",
    "</code>"
   ]
  },
  {
   "cell_type": "code",
   "execution_count": 431,
   "metadata": {},
   "outputs": [
    {
     "data": {
      "text/plain": [
       "False"
      ]
     },
     "execution_count": 431,
     "metadata": {},
     "output_type": "execute_result"
    }
   ],
   "source": [
    "def list_xor(n ,list1, list2):\n",
    "    l1 = False\n",
    "    l2 = False\n",
    "    if n in list1:\n",
    "        l1 = True\n",
    "    if n in list2:\n",
    "        l2 = True\n",
    "    return l1^l2\n",
    "        \n",
    "\n",
    "\n",
    "list_xor('C', {'A','B','C'}, {'E', 'F', 'G', 'C'})"
   ]
  },
  {
   "cell_type": "markdown",
   "metadata": {},
   "source": [
    "### Solution validation\n",
    "The aim of this challenge is to write code that can analyze code submissions. We'll simplify things a lot to not make this too hard.\n",
    "\n",
    "Write a function named validate that takes code represented as a string as its only parameter.\n",
    "\n",
    "Your function should check a few things:\n",
    "\n",
    "- the code must contain the def keyword\n",
    "    - otherwise return \"missing def\"\n",
    "- the code must contain the : symbol\n",
    "    - otherwise return \"missing :\"\n",
    "- the code must contain ( and ) for the parameter list\n",
    "    - otherwise return \"missing paren\"\n",
    "- the code must not contain ()\n",
    "    - otherwise return \"missing param\"\n",
    "- the code must contain four spaces for indentation\n",
    "    - otherwise return \"missing indent\"\n",
    "- the code must contain validate\n",
    "    - otherwise return \"wrong name\"\n",
    "- the code must contain a return statement\n",
    "    - otherwise return \"missing return\"\n",
    "\n",
    "##### If all these conditions are satisfied, your code should return True.\n",
    "\n",
    "Here comes the twist: your solution must return True when validating itself."
   ]
  },
  {
   "cell_type": "code",
   "execution_count": 572,
   "metadata": {},
   "outputs": [
    {
     "data": {
      "text/plain": [
       "True"
      ]
     },
     "execution_count": 572,
     "metadata": {},
     "output_type": "execute_result"
    }
   ],
   "source": [
    "def validate(code):\n",
    "    if \"def\" not in code:\n",
    "        return \"missing def\"\n",
    "    if ':' not in code:\n",
    "        return \"missing :\"\n",
    "    if '(' not in code or ')' not in code:\n",
    "        return \"missing paran\"\n",
    "    if '('+')' in code:\n",
    "        return \"missing param\"\n",
    "    if ' '+' '+' '+' ' not in code:\n",
    "        return \"missing indent\"\n",
    "    if \"validate\" not in code:\n",
    "        return \"wrong name\"\n",
    "    if \"return\" not in code:\n",
    "        return \"missing return\"\n",
    "    return True\n",
    "\n",
    "code = \"\"\"\n",
    "    def validate(code):\n",
    "    if \"def\" not in code:\n",
    "        return \"misssing def\"\n",
    "    if ':' not in code:\n",
    "        return \"missing :\"\n",
    "    if '(' not in code or ')' not in code:\n",
    "        return \"missing paran\"\n",
    "    if '('+')' in code:\n",
    "        return \"missing param\"\n",
    "    if ' '+' '+' '+' ' not in code:\n",
    "        return \"missing indent\"\n",
    "    if \"validate\" not in code:\n",
    "        return \"wrong name\"\n",
    "    if \"return\" not in code:\n",
    "        return \"missing return\"\n",
    "    return True\n",
    "\"\"\"\n",
    "validate(code)"
   ]
  },
  {
   "cell_type": "markdown",
   "metadata": {},
   "source": [
    "### Adding and removing dots\n",
    "Write a function named add_dots that takes a string and adds \".\" in between each letter. \n",
    "\n",
    "- For example, calling add_dots(\"test\") should return the string \"t.e.s.t\".\n",
    "\n",
    "Then, below the add_dots function, write another function named remove_dots that removes all dots from a string. \n",
    "\n",
    "- For example, calling remove_dots(\"t.e.s.t\") should return \"test\".\n",
    "\n",
    "If both functions are correct, calling remove_dots(add_dots(string)) should return back the original string for any string.\n",
    "\n",
    "(You may assume that the input to add_dots does not itself contain any dots.)"
   ]
  },
  {
   "cell_type": "code",
   "execution_count": 66,
   "metadata": {},
   "outputs": [
    {
     "data": {
      "text/plain": [
       "'test'"
      ]
     },
     "execution_count": 66,
     "metadata": {},
     "output_type": "execute_result"
    }
   ],
   "source": [
    "def add_dots(s):\n",
    "    withDots = \"\"\n",
    "    for i in range(len(s)):\n",
    "        if(i<len(s)-1):\n",
    "            withDots = withDots + s[i] + '.'\n",
    "        else:\n",
    "            withDots = withDots + s[i]\n",
    "    return withDots\n",
    "    \n",
    "def remove_dots(s):\n",
    "    s = s.replace('.','')\n",
    "    return s\n",
    "\n",
    "remove_dots(add_dots('test'))"
   ]
  },
  {
   "cell_type": "code",
   "execution_count": 70,
   "metadata": {},
   "outputs": [],
   "source": [
    "# Other Ways\n",
    "def add_dots(s):\n",
    "    out = \"\"\n",
    "    for letter in s:\n",
    "        out += letter + \".\"\n",
    "    return out[:-1]\n",
    "\n",
    "def remove_dots(s):\n",
    "    out = \"\"\n",
    "    for letter in s:\n",
    "        if letter != \".\":\n",
    "            out += letter\n",
    "    return out\n",
    "\n",
    "\n",
    "def add_dots(s):\n",
    "    return \".\".join(s)\n",
    "\n",
    "def remove_dots(s):\n",
    "    return s.replace(\".\", \"\")"
   ]
  },
  {
   "cell_type": "markdown",
   "metadata": {},
   "source": [
    "### Counting syllables\n",
    "Define a function named count that takes a single parameter. The parameter is a string. The string will contain a single word divided into syllables by hyphens, such as these:\n",
    "\n",
    "\"ho-tel\"\n",
    "\"cat\"\n",
    "\"met-a-phor\"\n",
    "\"ter-min-a-tor\"\n",
    "Your function should count the number of syllables and return it.\n",
    "\n",
    "For example, the call count(\"ho-tel\") should return 2."
   ]
  },
  {
   "cell_type": "code",
   "execution_count": 73,
   "metadata": {},
   "outputs": [
    {
     "data": {
      "text/plain": [
       "4"
      ]
     },
     "execution_count": 73,
     "metadata": {},
     "output_type": "execute_result"
    }
   ],
   "source": [
    "def count(s):\n",
    "    counter=0\n",
    "    for item in s:\n",
    "        if item=='-':\n",
    "            counter+=1\n",
    "    counter+=1\n",
    "    return counter\n",
    "count(\"ter-min-a-tor\")"
   ]
  },
  {
   "cell_type": "markdown",
   "metadata": {},
   "source": [
    "### Anagrams\n",
    "Two strings are anagrams if you can make one from the other by rearranging the letters.\n",
    "\n",
    "Write a function named is_anagram that takes two strings as its parameters. Your function should return True if the strings are anagrams, and False otherwise.\n",
    "\n",
    "For example, the call is_anagram(\"typhoon\", \"opython\") should return True while the call is_anagram(\"Alice\", \"Bob\") should return False."
   ]
  },
  {
   "cell_type": "code",
   "execution_count": 89,
   "metadata": {},
   "outputs": [
    {
     "data": {
      "text/plain": [
       "False"
      ]
     },
     "execution_count": 89,
     "metadata": {},
     "output_type": "execute_result"
    }
   ],
   "source": [
    "def is_anagram(s1, s2):\n",
    "    if sorted(s2) == sorted(s1):\n",
    "        return True\n",
    "    else:\n",
    "        return False\n",
    "\n",
    "is_anagram(\"Alice\", \"Bob\")"
   ]
  },
  {
   "cell_type": "markdown",
   "metadata": {},
   "source": [
    "### Flatten a list\n",
    "Write a function that takes a list of lists and flattens it into a one-dimensional list.\n",
    "\n",
    "Name your function flatten. It should take a single parameter and return a list.\n",
    "\n",
    "For example, calling:\n",
    "\n",
    "flatten([[1, 2], [3, 4]])\n",
    "Should return the list:\n",
    "\n",
    "[1, 2, 3, 4]"
   ]
  },
  {
   "cell_type": "code",
   "execution_count": 93,
   "metadata": {},
   "outputs": [
    {
     "data": {
      "text/plain": [
       "[1, 2, 3, 4, 4, 5, 6, 7]"
      ]
     },
     "execution_count": 93,
     "metadata": {},
     "output_type": "execute_result"
    }
   ],
   "source": [
    "def flatten(lol):\n",
    "    flat = []\n",
    "    for list in lol:\n",
    "        for item in list:\n",
    "            flat.append(item)\n",
    "    return flat\n",
    "    \n",
    "flatten([[1, 2], [3, 4], [4, 5, 6, 7]])"
   ]
  },
  {
   "cell_type": "markdown",
   "metadata": {},
   "source": [
    "### Min-maxing\n",
    "Define a function named largest_difference that takes a list of numbers as its only parameter.\n",
    "\n",
    "Your function should compute and return the difference between the largest and smallest number in the list.\n",
    "\n",
    "For example, the call largest_difference([1, 2, 3]) should return 2 because 3 - 1 is 2.\n",
    "\n",
    "You may assume that no numbers are smaller or larger than -100 and 100."
   ]
  },
  {
   "cell_type": "code",
   "execution_count": 100,
   "metadata": {},
   "outputs": [
    {
     "data": {
      "text/plain": [
       "150"
      ]
     },
     "execution_count": 100,
     "metadata": {},
     "output_type": "execute_result"
    }
   ],
   "source": [
    "def largest_difference(lons):\n",
    "    return max(lons)-min(lons)\n",
    "    \n",
    "largest_difference([1, 2, 3,50 ,-100]) "
   ]
  },
  {
   "cell_type": "code",
   "execution_count": 101,
   "metadata": {},
   "outputs": [],
   "source": [
    "# Other solution\n",
    "def largest_difference(numbers):\n",
    "    smallest = 100\n",
    "    for n in numbers:\n",
    "        if n < smallest:\n",
    "            smallest = n\n",
    "\n",
    "    largest = -100\n",
    "    for n in numbers:\n",
    "        if n > largest:\n",
    "            largest = n\n",
    "\n",
    "    difference = largest - smallest\n",
    "    return difference"
   ]
  },
  {
   "cell_type": "markdown",
   "metadata": {},
   "source": [
    "### Divisible by 3\n",
    "Define a function named div_3 that returns True if its single integer parameter is divisible by 3 and False otherwise.\n",
    "\n",
    "For example, div_3(6) is True because 6/3 does not leave any remainder. However div_3(5) is False because 5/3 leaves 2 as a remainder."
   ]
  },
  {
   "cell_type": "code",
   "execution_count": 106,
   "metadata": {},
   "outputs": [
    {
     "data": {
      "text/plain": [
       "True"
      ]
     },
     "execution_count": 106,
     "metadata": {},
     "output_type": "execute_result"
    }
   ],
   "source": [
    "def div_3(number):\n",
    "    if number%3==0:\n",
    "        return True\n",
    "    else:\n",
    "        return False\n",
    "div_3(81)"
   ]
  },
  {
   "cell_type": "markdown",
   "metadata": {},
   "source": [
    "### Tic tac toe input\n",
    "Here's the backstory for this challenge: imagine you're writing a tic-tac-toe game, where the board looks like this:\n",
    "\n",
    "<code>1:  X | O | X</code> <br>\n",
    "<code>   -----------</code> <br>\n",
    "<code>2:    |   |  </code> <br>\n",
    "<code>   -----------</code> <br>\n",
    "<code>3:  O |   |</code> <br>\n",
    "\n",
    "<code>    A   B  C    </code> <br>\n",
    "The board is represented as a 2D list:\n",
    "\n",
    "<code>board = [\n",
    "    [\"X\", \"O\", \"X\"],\n",
    "    [\" \", \" \", \" \"],\n",
    "    [\"O\", \" \", \" \"],\n",
    "]</code> <br>\n",
    "Imagine if your user enters \"C1\" and you need to see if there's an X or O in that cell on the board. To do so, you need to translate from the string \"C1\" to row 0 and column 2 so that you can check board[row][column].\n",
    "\n",
    "Your task is to write a function that can translate from strings of length 2 to a tuple (row, column). Name your function get_row_col; it should take a single parameter which is a string of length 2 consisting of an uppercase letter and a digit.\n",
    "\n",
    "For example, calling get_row_col(\"A3\") should return the tuple (2, 0) because A3 corresponds to the row at index 2 and column at index 0in the board."
   ]
  },
  {
   "cell_type": "code",
   "execution_count": null,
   "metadata": {},
   "outputs": [],
   "source": []
  },
  {
   "cell_type": "markdown",
   "metadata": {},
   "source": [
    "### All equal\n",
    "Define a function named all_equal that takes a list and checks whether all elements in the list are the same.\n",
    "\n",
    "For example, calling all_equal([1, 1, 1]) should return True."
   ]
  },
  {
   "cell_type": "code",
   "execution_count": null,
   "metadata": {},
   "outputs": [],
   "source": []
  }
 ],
 "metadata": {
  "kernelspec": {
   "display_name": "Python 3",
   "language": "python",
   "name": "python3"
  },
  "language_info": {
   "codemirror_mode": {
    "name": "ipython",
    "version": 3
   },
   "file_extension": ".py",
   "mimetype": "text/x-python",
   "name": "python",
   "nbconvert_exporter": "python",
   "pygments_lexer": "ipython3",
   "version": "3.8.3"
  }
 },
 "nbformat": 4,
 "nbformat_minor": 4
}
