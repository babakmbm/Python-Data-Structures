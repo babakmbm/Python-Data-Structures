{
 "cells": [
  {
   "cell_type": "code",
   "execution_count": 19,
   "metadata": {},
   "outputs": [],
   "source": [
    "class Node:\n",
    "    def __init__(self, value):\n",
    "        self.value = value\n",
    "        self.left = None\n",
    "        self.right = None\n",
    "        \n",
    "\n",
    "class BinarySearchTree:\n",
    "    def __init__(self):\n",
    "        self.root = None\n",
    "\n",
    "    def insert(self, value):\n",
    "        # we first create a node\n",
    "        new_node = Node(value)\n",
    "        # if root is none\n",
    "        if self.root is None:\n",
    "            # then we point root to the new node\n",
    "            self.root = new_node\n",
    "            return True\n",
    "        # we point a temporary pointer to where the root is pointing\n",
    "        temp = self.root\n",
    "        # the logic of the search tree is in this while loop\n",
    "        while (True):\n",
    "            if new_node.value == temp.value:\n",
    "                return False\n",
    "            if new_node.value < temp.value:\n",
    "                if temp.left is None:\n",
    "                    temp.left = new_node\n",
    "                    return True\n",
    "                temp = temp.left\n",
    "            else: \n",
    "                if temp.right is None:\n",
    "                    temp.right = new_node\n",
    "                    return True\n",
    "                temp = temp.right\n",
    "\n",
    "    # this function searches the tree for a value\n",
    "    def contains(self, value):\n",
    "        # temp is pointed to the root\n",
    "        temp = self.root\n",
    "        # the while loop is going until it gets to a none \n",
    "        # if temp points to a none it means the element was not in the tree\n",
    "        while (temp is not None):\n",
    "            # if value is less than temp value \n",
    "            # then we point the temp to the left \n",
    "            # because the lesser values are save on the left side in a binary search tree\n",
    "            if value < temp.value:\n",
    "                temp = temp.left\n",
    "            # otherwise we point the temp to the right\n",
    "            elif value > temp.value:\n",
    "                temp = temp.right\n",
    "            else:\n",
    "            # if the value is not less than and it's not more than \n",
    "            # where the temp is pointing it means that they are equal \n",
    "            # so we will return a true indicating the value is found\n",
    "                print(\"The value is in the tree!\")\n",
    "                return True\n",
    "        print(\"The value is 'not' in the tree!\")\n",
    "        return False\n",
    "    \n",
    "    # Get the node with the minimum value in a tree\n",
    "    def minimum(self, current_node):\n",
    "        while current_node.left is not None:\n",
    "            current_node = current_node.left\n",
    "        return current_node"
   ]
  },
  {
   "cell_type": "code",
   "execution_count": 20,
   "metadata": {},
   "outputs": [
    {
     "data": {
      "text/plain": [
       "True"
      ]
     },
     "execution_count": 20,
     "metadata": {},
     "output_type": "execute_result"
    }
   ],
   "source": [
    "my_tree = BinarySearchTree()\n",
    "my_tree.insert(47)\n",
    "my_tree.insert(21)\n",
    "my_tree.insert(76)\n",
    "my_tree.insert(18)\n",
    "my_tree.insert(27)\n",
    "my_tree.insert(52)\n",
    "my_tree.insert(82)"
   ]
  },
  {
   "cell_type": "code",
   "execution_count": 21,
   "metadata": {},
   "outputs": [
    {
     "name": "stdout",
     "output_type": "stream",
     "text": [
      "47\n"
     ]
    }
   ],
   "source": [
    "print(my_tree.root.value)"
   ]
  },
  {
   "cell_type": "code",
   "execution_count": 22,
   "metadata": {},
   "outputs": [
    {
     "name": "stdout",
     "output_type": "stream",
     "text": [
      "21\n"
     ]
    }
   ],
   "source": [
    "print(my_tree.root.left.value)"
   ]
  },
  {
   "cell_type": "code",
   "execution_count": 23,
   "metadata": {},
   "outputs": [
    {
     "name": "stdout",
     "output_type": "stream",
     "text": [
      "76\n"
     ]
    }
   ],
   "source": [
    "print(my_tree.root.right.value)"
   ]
  },
  {
   "cell_type": "code",
   "execution_count": 24,
   "metadata": {},
   "outputs": [
    {
     "name": "stdout",
     "output_type": "stream",
     "text": [
      "The value is in the tree!\n"
     ]
    },
    {
     "data": {
      "text/plain": [
       "True"
      ]
     },
     "execution_count": 24,
     "metadata": {},
     "output_type": "execute_result"
    }
   ],
   "source": [
    "my_tree.contains(27)"
   ]
  },
  {
   "cell_type": "code",
   "execution_count": 25,
   "metadata": {},
   "outputs": [
    {
     "name": "stdout",
     "output_type": "stream",
     "text": [
      "The value is 'not' in the tree!\n"
     ]
    },
    {
     "data": {
      "text/plain": [
       "False"
      ]
     },
     "execution_count": 25,
     "metadata": {},
     "output_type": "execute_result"
    }
   ],
   "source": [
    "my_tree.contains(0)"
   ]
  },
  {
   "cell_type": "code",
   "execution_count": 26,
   "metadata": {},
   "outputs": [
    {
     "data": {
      "text/plain": [
       "True"
      ]
     },
     "execution_count": 26,
     "metadata": {},
     "output_type": "execute_result"
    }
   ],
   "source": [
    "my_tree.insert(99)"
   ]
  },
  {
   "cell_type": "code",
   "execution_count": 27,
   "metadata": {},
   "outputs": [
    {
     "name": "stdout",
     "output_type": "stream",
     "text": [
      "The value is in the tree!\n"
     ]
    },
    {
     "data": {
      "text/plain": [
       "True"
      ]
     },
     "execution_count": 27,
     "metadata": {},
     "output_type": "execute_result"
    }
   ],
   "source": [
    "my_tree.contains(99)"
   ]
  },
  {
   "cell_type": "code",
   "execution_count": 13,
   "metadata": {},
   "outputs": [],
   "source": [
    "TheMinNode = my_tree.minimum(my_tree.root)"
   ]
  },
  {
   "cell_type": "code",
   "execution_count": 15,
   "metadata": {},
   "outputs": [
    {
     "name": "stdout",
     "output_type": "stream",
     "text": [
      "The min value in the tree is: 18\n"
     ]
    }
   ],
   "source": [
    "print(\"The min value in the tree is:\", TheMinNode.value)"
   ]
  },
  {
   "cell_type": "code",
   "execution_count": 16,
   "metadata": {},
   "outputs": [],
   "source": [
    "TheMinNodeFromSecondBiggest = my_tree.minimum(my_tree.root.right)"
   ]
  },
  {
   "cell_type": "code",
   "execution_count": 18,
   "metadata": {},
   "outputs": [
    {
     "name": "stdout",
     "output_type": "stream",
     "text": [
      "52\n"
     ]
    }
   ],
   "source": [
    "print(TheMinNodeFromSecondBiggest.value)"
   ]
  },
  {
   "cell_type": "code",
   "execution_count": null,
   "metadata": {},
   "outputs": [],
   "source": []
  }
 ],
 "metadata": {
  "kernelspec": {
   "display_name": "Python 3",
   "language": "python",
   "name": "python3"
  },
  "language_info": {
   "codemirror_mode": {
    "name": "ipython",
    "version": 3
   },
   "file_extension": ".py",
   "mimetype": "text/x-python",
   "name": "python",
   "nbconvert_exporter": "python",
   "pygments_lexer": "ipython3",
   "version": "3.8.3"
  }
 },
 "nbformat": 4,
 "nbformat_minor": 4
}
