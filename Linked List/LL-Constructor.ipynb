{
 "cells": [
  {
   "cell_type": "code",
   "execution_count": 40,
   "metadata": {},
   "outputs": [],
   "source": [
    "class Node:\n",
    "    def __init__(self, value):\n",
    "        self.value = value\n",
    "        self.next = None\n",
    "        \n",
    "\n",
    "class LinkedList:\n",
    "    def __init__(self, value):\n",
    "        # we create a new node with a value passed to the constructor \n",
    "        new_node = Node(value)\n",
    "        # we put the head and tail both to the new node \n",
    "        self.head = new_node\n",
    "        self.tail = new_node\n",
    "        # we store the length of the node\n",
    "        self.length = 1\n",
    "\n",
    "    # this prints the values of all the nodes inside of the linked list in order\n",
    "    def print_list(self):\n",
    "        # first we put the head ptr into a temporary variable\n",
    "        temp = self.head\n",
    "        # while the head is not none we print the value that the temp \n",
    "        # variable is pointing at and change the temp variable to the\n",
    "        # next ptr\n",
    "        # Notice that this way we will not change the integrity of the linked list\n",
    "        # we just change the temporary variable\n",
    "        while temp is not None:\n",
    "            print(temp.value)\n",
    "            temp = temp.next\n",
    "        \n",
    "    # This appends a node with a value to the end of the linked list\n",
    "    def append(self, value):\n",
    "        # we create a new node\n",
    "        new_node = Node(value)\n",
    "        # then we check if the list is empty and if it is \n",
    "        # we put both head and tail equal to the new node \n",
    "        if self.length == 0:\n",
    "            self.head = new_node\n",
    "            self.tail = new_node\n",
    "        else:\n",
    "        # Otherwise we point the next ptr of the node that tail is pointing to \n",
    "        # to the new node and point the tail to the new node\n",
    "            self.tail.next = new_node\n",
    "            self.tail = new_node\n",
    "        # we also add one to the length attribute\n",
    "        self.length += 1\n",
    "        return True\n",
    "    \n",
    "    # pop is a bit more complicated \n",
    "    def pop(self):\n",
    "        # first we check if the list is empty and if yes then we return none\n",
    "        # since we cannot do anything\n",
    "        if self.length == 0:\n",
    "            return None\n",
    "        # If list is not empty we again take advantage of a temporary pointer variable\n",
    "        # we point the temp to the head which is the first node\n",
    "        temp = self.head\n",
    "        # we also create another temporary pointer which is pointing to the same place (head)\n",
    "        pre = self.head\n",
    "        \n",
    "        # Now: While our temp has a next ptr \n",
    "        # we will point the pre variable to temp \n",
    "        # and temp to temp next until we get to the end of the list\n",
    "        # when temp doesn't have a next anymore temp is pointing to the last node \n",
    "        # and pre is pointing to the node before the last node\n",
    "        while(temp.next):\n",
    "            pre = temp\n",
    "            temp = temp.next\n",
    "        \n",
    "        # Now that we have a ptr (pre) pointing to the node before last \n",
    "        # we point the tail to that \n",
    "        # point the tail next to None\n",
    "        # and decrease the length of the list by 1\n",
    "        self.tail = pre\n",
    "        self.tail.next = None\n",
    "        self.length -= 1\n",
    "        \n",
    "        # then we check again if the list is empty \n",
    "        # because the list might have had only one node\n",
    "        # If it is both head and tail pointer are pointed to None\n",
    "        if self.length == 0:\n",
    "            self.head = None\n",
    "            self.tail = None\n",
    "        # At the end we will return the temp pointer \n",
    "        # which is pointing to the variable we poped\n",
    "        return temp.value\n",
    "    \n",
    "    # This adds a node to the begining of a linked list \n",
    "    def prepend(self, value):\n",
    "        # first we create a new node\n",
    "        new_node = Node(value)\n",
    "        # if the list is empty we put both head and tail equal to the new node\n",
    "        if self.length == 0:\n",
    "            self.head = new_node\n",
    "            self.tail = new_node\n",
    "        else:\n",
    "            # otherwise new_node next pointer is pointed to the head\n",
    "            # and head is pointed to the new node\n",
    "            new_node.next = self.head\n",
    "            self.head = new_node\n",
    "        # we then increase the length by 1\n",
    "        self.length += 1\n",
    "        return True\n",
    "\n",
    "    # pops a node from the begining of the list \n",
    "    def pop_first(self):\n",
    "        if self.length == 0:\n",
    "            return None\n",
    "        temp = self.head\n",
    "        self.head = self.head.next\n",
    "        temp.next = None\n",
    "        self.length -= 1\n",
    "        if self.length == 0:\n",
    "            self.tail = None\n",
    "        return temp\n",
    "\n",
    "    # This method returns the node at an specific index\n",
    "    def get(self, index):\n",
    "        # first we check to see if the provided index is less than 0 or more than the length of the list\n",
    "        # in this case we will return a None since no node exists at those indexes\n",
    "        if index < 0 or index >= self.length:\n",
    "            print(\"Out of range\")\n",
    "            return None\n",
    "        # if the index is within range we point a temporary variable to where head is pointing\n",
    "        temp = self.head\n",
    "        # this loop will move our temp ptr along the linked list \n",
    "        # until we get to the provided index\n",
    "        # Note: \"_\" means \"anything\"\n",
    "        # we only use a variable such as i in a loop if we are going to use that variable\n",
    "        for _ in range(index):\n",
    "            temp = temp.next\n",
    "        # as soon as we get to the index we return temp which is pointing to the node we need\n",
    "        return temp\n",
    "        \n",
    "    # sets a value to an specific index in the list\n",
    "    def set_value(self, index, value):\n",
    "        # we will use the get method to get the node at that particular index \n",
    "        temp = self.get(index)\n",
    "        # if the get method returns something \n",
    "        # then we put the value of temp to the provided value\n",
    "        if temp:\n",
    "            temp.value = value\n",
    "            return True\n",
    "        return False\n",
    "\n",
    "    # Inserts a node anywhere inside the list\n",
    "    def insert(self, index, value):\n",
    "        if index < 0 or index > self.length:\n",
    "            print(\"out of range\")\n",
    "            return False\n",
    "        # if the index is zero it means we want to prepend a node\n",
    "        if index == 0:\n",
    "            return self.prepend(value)\n",
    "        # if the index is at the end of the list we want to append a node\n",
    "        if index == self.length:\n",
    "            return self.append(value)\n",
    "        # if the index is somewhere in the middle of the list then \n",
    "        # we create a new node\n",
    "        new_node = Node(value)\n",
    "        # point a temporary pointer to the node before the index\n",
    "        # which will give us the next of that node \n",
    "        temp = self.get(index - 1)\n",
    "        # point the next of the new node to where the temporay pointer is pointing \n",
    "        new_node.next = temp.next\n",
    "        # point the temporary pointers next to the new node \n",
    "        temp.next = new_node\n",
    "        # add 1 to the length of the list\n",
    "        self.length += 1   \n",
    "        return True\n",
    "    \n",
    "    # Removes a node from the list\n",
    "    def remove(self, index):\n",
    "        if index < 0 or index >= self.length:\n",
    "            print(\"out of range\")\n",
    "            return None\n",
    "        if index == 0:\n",
    "            return self.pop_first()\n",
    "        if index == self.length - 1:\n",
    "            return self.pop()\n",
    "        pre = self.get(index - 1)\n",
    "        temp = pre.next\n",
    "        pre.next = temp.next\n",
    "        temp.next = None\n",
    "        self.length -= 1\n",
    "        return temp.value\n",
    "    \n",
    "    # reverses the list\n",
    "    # very common exam question\n",
    "    def reverse(self):\n",
    "        # first we switch head and tail using a temporary variable\n",
    "        temp = self.head\n",
    "        self.head = self.tail\n",
    "        self.tail = temp\n",
    "        after = temp.next\n",
    "        before = None\n",
    "        for _ in range(self.length):\n",
    "            after = temp.next\n",
    "            temp.next = before\n",
    "            before = temp\n",
    "            temp = after"
   ]
  },
  {
   "cell_type": "code",
   "execution_count": 41,
   "metadata": {},
   "outputs": [
    {
     "name": "stdout",
     "output_type": "stream",
     "text": [
      "11\n",
      "3\n",
      "23\n",
      "7\n"
     ]
    }
   ],
   "source": [
    "my_linked_list = LinkedList(11)\n",
    "my_linked_list.append(3)\n",
    "my_linked_list.append(23)\n",
    "my_linked_list.append(7)\n",
    "my_linked_list.print_list()"
   ]
  },
  {
   "cell_type": "code",
   "execution_count": 42,
   "metadata": {},
   "outputs": [],
   "source": [
    "node = my_linked_list.get(0)"
   ]
  },
  {
   "cell_type": "code",
   "execution_count": 43,
   "metadata": {},
   "outputs": [
    {
     "data": {
      "text/plain": [
       "11"
      ]
     },
     "execution_count": 43,
     "metadata": {},
     "output_type": "execute_result"
    }
   ],
   "source": [
    "node.value"
   ]
  },
  {
   "cell_type": "code",
   "execution_count": 44,
   "metadata": {},
   "outputs": [
    {
     "data": {
      "text/plain": [
       "True"
      ]
     },
     "execution_count": 44,
     "metadata": {},
     "output_type": "execute_result"
    }
   ],
   "source": [
    "my_linked_list.set_value(0,12)"
   ]
  },
  {
   "cell_type": "code",
   "execution_count": 45,
   "metadata": {},
   "outputs": [
    {
     "name": "stdout",
     "output_type": "stream",
     "text": [
      "12\n",
      "3\n",
      "23\n",
      "7\n"
     ]
    }
   ],
   "source": [
    "my_linked_list.print_list()"
   ]
  },
  {
   "cell_type": "code",
   "execution_count": 46,
   "metadata": {},
   "outputs": [
    {
     "data": {
      "text/plain": [
       "4"
      ]
     },
     "execution_count": 46,
     "metadata": {},
     "output_type": "execute_result"
    }
   ],
   "source": [
    "my_linked_list.length"
   ]
  },
  {
   "cell_type": "code",
   "execution_count": 47,
   "metadata": {},
   "outputs": [
    {
     "data": {
      "text/plain": [
       "True"
      ]
     },
     "execution_count": 47,
     "metadata": {},
     "output_type": "execute_result"
    }
   ],
   "source": [
    "my_linked_list.insert(4, 50)"
   ]
  },
  {
   "cell_type": "code",
   "execution_count": 48,
   "metadata": {},
   "outputs": [
    {
     "name": "stdout",
     "output_type": "stream",
     "text": [
      "12\n",
      "3\n",
      "23\n",
      "7\n",
      "50\n"
     ]
    }
   ],
   "source": [
    "my_linked_list.print_list()"
   ]
  },
  {
   "cell_type": "code",
   "execution_count": 49,
   "metadata": {},
   "outputs": [
    {
     "name": "stdout",
     "output_type": "stream",
     "text": [
      "out of range\n"
     ]
    }
   ],
   "source": [
    "my_linked_list.remove(5)"
   ]
  },
  {
   "cell_type": "code",
   "execution_count": 50,
   "metadata": {},
   "outputs": [
    {
     "data": {
      "text/plain": [
       "23"
      ]
     },
     "execution_count": 50,
     "metadata": {},
     "output_type": "execute_result"
    }
   ],
   "source": [
    "my_linked_list.remove(2)"
   ]
  },
  {
   "cell_type": "code",
   "execution_count": 51,
   "metadata": {},
   "outputs": [
    {
     "name": "stdout",
     "output_type": "stream",
     "text": [
      "12\n",
      "3\n",
      "7\n",
      "50\n"
     ]
    }
   ],
   "source": [
    "my_linked_list.print_list()"
   ]
  },
  {
   "cell_type": "code",
   "execution_count": null,
   "metadata": {},
   "outputs": [],
   "source": []
  }
 ],
 "metadata": {
  "kernelspec": {
   "display_name": "Python 3",
   "language": "python",
   "name": "python3"
  },
  "language_info": {
   "codemirror_mode": {
    "name": "ipython",
    "version": 3
   },
   "file_extension": ".py",
   "mimetype": "text/x-python",
   "name": "python",
   "nbconvert_exporter": "python",
   "pygments_lexer": "ipython3",
   "version": "3.8.3"
  }
 },
 "nbformat": 4,
 "nbformat_minor": 4
}
