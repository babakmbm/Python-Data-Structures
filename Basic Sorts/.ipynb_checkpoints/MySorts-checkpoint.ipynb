{
 "cells": [
  {
   "cell_type": "markdown",
   "metadata": {},
   "source": [
    "<img src=\"bubble_sort.png\" style=\"width: 500px;\">\n",
    "\n",
    "- we are going to start with the first item and compare to the second item and if the 1st item is bigger than the second we are going to switch them\n",
    "- then we are going to compare the second item with the third item and then third item with the forth item and so on until we get to the end of the list\n",
    "#### in bubble sort If we have a list of 6 items we will do 5 comparisons in the first go then 4 comparisons then 3 then 2 then 1 \n"
   ]
  },
  {
   "cell_type": "code",
   "execution_count": 11,
   "metadata": {},
   "outputs": [],
   "source": [
    "# This bubble sorts a list\n",
    "def bubble_sort(my_list):\n",
    "    # this nested loop goes through the list len(my_list)-1 times from 0 and each time decrements\n",
    "    # so for a list of 6 items \n",
    "    # i = 5,4,3,2,1,0\n",
    "    for i in range(len(my_list) - 1, 0 ,-1):\n",
    "        # this loop goes through the comparisons\n",
    "        # for a list of 5 j will be:\n",
    "        for j in range(i):\n",
    "            # this if statement does the comparison\n",
    "            # if the previous item is more than the next item\n",
    "            if my_list[j] > my_list[j+1]:\n",
    "                # then we keep the value of the previous item in a temp\n",
    "                temp = my_list[j]\n",
    "                # then put previous item equal to the next item\n",
    "                my_list[j] = my_list[j+1]\n",
    "                # and next item equal to the temp which holds the value of the previous item\n",
    "                my_list[j+1] = temp\n",
    "    return my_list"
   ]
  },
  {
   "cell_type": "markdown",
   "metadata": {},
   "source": [
    "<img src=\"bubble_sort.png\" style=\"width: 500px;\">\n",
    "\n",
    "#### *In this algoritm we use the indexes \n",
    "- First we create a variable min_index = 0 which holds the index of the minimum value so far (Where the minimum value is located in the list)\n",
    "- Then we start going through the list and check the next item\n",
    "- If it is less than the previous item we will update the min_index\n",
    "- We go through the whole list updating the min index each time\n",
    "- At the end we switch the current min index with the first value \n",
    "- Then we move on to the second item and put the min_index = 2\n",
    "- we continue this until the end"
   ]
  },
  {
   "cell_type": "code",
   "execution_count": 12,
   "metadata": {},
   "outputs": [],
   "source": [
    "def selection_sort(my_list):\n",
    "    for i in range(len(my_list)-1):\n",
    "        min_index = i\n",
    "        for j in range(i+1, len(my_list)):\n",
    "            if my_list[j] < my_list[min_index]:\n",
    "                min_index = j\n",
    "        if i != min_index:\n",
    "            temp = my_list[i]\n",
    "            my_list[i] = my_list[min_index]\n",
    "            my_list[min_index] = temp\n",
    "    return my_list"
   ]
  },
  {
   "cell_type": "code",
   "execution_count": 41,
   "metadata": {},
   "outputs": [],
   "source": [
    "def insertion_sort(my_list):\n",
    "    for i in range(1, len(my_list)):\n",
    "        temp = my_list[i]\n",
    "        j = i-1\n",
    "        while temp < my_list[j] and j > -1:\n",
    "            my_list[j+1] = my_list[j] \n",
    "            my_list[j] = temp\n",
    "            j -= 1\n",
    "    return my_list"
   ]
  },
  {
   "cell_type": "code",
   "execution_count": 19,
   "metadata": {},
   "outputs": [],
   "source": [
    "myList = [4,2,6,5,1,3]"
   ]
  },
  {
   "cell_type": "code",
   "execution_count": 20,
   "metadata": {},
   "outputs": [
    {
     "name": "stdout",
     "output_type": "stream",
     "text": [
      "[1, 2, 3, 4, 5, 6]\n"
     ]
    }
   ],
   "source": [
    "print(bubble_sort(myList))"
   ]
  },
  {
   "cell_type": "code",
   "execution_count": 21,
   "metadata": {},
   "outputs": [
    {
     "name": "stdout",
     "output_type": "stream",
     "text": [
      "[1, 2, 3, 4, 5, 6]\n"
     ]
    }
   ],
   "source": [
    "print(selection_sort(myList))"
   ]
  },
  {
   "cell_type": "code",
   "execution_count": 42,
   "metadata": {},
   "outputs": [
    {
     "name": "stdout",
     "output_type": "stream",
     "text": [
      "[1, 2, 3, 4, 5, 6]\n"
     ]
    }
   ],
   "source": [
    "print(insertion_sort([4,2,6,5,1,3]))"
   ]
  },
  {
   "cell_type": "code",
   "execution_count": 22,
   "metadata": {},
   "outputs": [
    {
     "data": {
      "text/plain": [
       "6"
      ]
     },
     "execution_count": 22,
     "metadata": {},
     "output_type": "execute_result"
    }
   ],
   "source": [
    "len(myList)"
   ]
  },
  {
   "cell_type": "code",
   "execution_count": 39,
   "metadata": {},
   "outputs": [
    {
     "name": "stdout",
     "output_type": "stream",
     "text": [
      "i:  5\n",
      "-----\n",
      "j:  0\n",
      "j:  1\n",
      "j:  2\n",
      "j:  3\n",
      "j:  4\n",
      "------------\n",
      "i:  4\n",
      "-----\n",
      "j:  0\n",
      "j:  1\n",
      "j:  2\n",
      "j:  3\n",
      "------------\n",
      "i:  3\n",
      "-----\n",
      "j:  0\n",
      "j:  1\n",
      "j:  2\n",
      "------------\n",
      "i:  2\n",
      "-----\n",
      "j:  0\n",
      "j:  1\n",
      "------------\n",
      "i:  1\n",
      "-----\n",
      "j:  0\n",
      "------------\n"
     ]
    }
   ],
   "source": [
    "# Bubble sort for loops \n",
    "for i in range(len(myList) - 1, 0 ,-1):\n",
    "        print(\"i: \", i)\n",
    "        print(\"-----\")\n",
    "        for j in range(i):\n",
    "            print(\"j: \", j)\n",
    "        print(\"------------\")"
   ]
  },
  {
   "cell_type": "code",
   "execution_count": 38,
   "metadata": {},
   "outputs": [
    {
     "name": "stdout",
     "output_type": "stream",
     "text": [
      "i: 0\n",
      "-----\n",
      "j: 1\n",
      "j: 2\n",
      "j: 3\n",
      "j: 4\n",
      "j: 5\n",
      "---------------\n",
      "i: 1\n",
      "-----\n",
      "j: 2\n",
      "j: 3\n",
      "j: 4\n",
      "j: 5\n",
      "---------------\n",
      "i: 2\n",
      "-----\n",
      "j: 3\n",
      "j: 4\n",
      "j: 5\n",
      "---------------\n",
      "i: 3\n",
      "-----\n",
      "j: 4\n",
      "j: 5\n",
      "---------------\n",
      "i: 4\n",
      "-----\n",
      "j: 5\n",
      "---------------\n"
     ]
    }
   ],
   "source": [
    "for i in range(len(myList)-1):\n",
    "        min_index = i\n",
    "        print(\"i:\", i)\n",
    "        print(\"-----\")\n",
    "        for j in range(i+1, len(myList)):\n",
    "            print(\"j:\", j)\n",
    "            if myList[j] < myList[min_index]:\n",
    "                min_index = j\n",
    "        print(\"---------------\")"
   ]
  },
  {
   "cell_type": "markdown",
   "metadata": {},
   "source": [
    "# Merge Sort"
   ]
  },
  {
   "cell_type": "code",
   "execution_count": 2,
   "metadata": {},
   "outputs": [],
   "source": [
    "# the merge function \n",
    "def merge(list1, list2):\n",
    "    # combined list\n",
    "    combined = []\n",
    "    # we cannot use for loops unless we have the sizes \n",
    "    i = 0 #for the first list\n",
    "    j = 0 #for the second list\n",
    "    \n",
    "    # as long as both lists still have items in them while list still runs\n",
    "    # if one list becomes empty it will break us out of the while loop\n",
    "    while i<len(list1) and j<len(list2):\n",
    "        if list1[i] < list2[j]:\n",
    "            combined.append(list1[i])\n",
    "            i += 1\n",
    "        else:\n",
    "            combined.append(list2[j])\n",
    "            j += 1\n",
    "    # for the remaining items in list 1 or list 2\n",
    "    while i<len(list1):\n",
    "        combined.append(list1[i])\n",
    "        i += 1\n",
    "    while j<len(list2):\n",
    "        combined.append(list2[j])\n",
    "        j += 1\n",
    "    \n",
    "    return combined\n",
    "            "
   ]
  },
  {
   "cell_type": "code",
   "execution_count": 4,
   "metadata": {},
   "outputs": [
    {
     "data": {
      "text/plain": [
       "[1, 2, 3, 4, 5, 6, 7, 8]"
      ]
     },
     "execution_count": 4,
     "metadata": {},
     "output_type": "execute_result"
    }
   ],
   "source": [
    "merge([1, 2, 7, 8], [3, 4, 5, 6])"
   ]
  },
  {
   "cell_type": "code",
   "execution_count": 5,
   "metadata": {},
   "outputs": [],
   "source": [
    "# for this one we can use recursion to:\n",
    "# break the lists in half until the length of the lists are 1 \n",
    "# then we use the merge function to put them back together\n",
    "def merge_sort(my_list):\n",
    "    if len(my_list) == 1:\n",
    "        return my_list\n",
    "    # we find the mid point of the list in integer form\n",
    "    mid = int(len(my_list)/2)\n",
    "    \n",
    "    # we create two sublists\n",
    "    \n",
    "    # the left list is created from the index of zero to mid-1 (not including mid)\n",
    "    left = my_list[:mid]\n",
    "    # the right side goes from index of mid to the end of the list\n",
    "    right = my_list[mid:]\n",
    "    \n",
    "    return merge(left, right)\n",
    "    \n",
    "    "
   ]
  },
  {
   "cell_type": "code",
   "execution_count": null,
   "metadata": {},
   "outputs": [],
   "source": []
  }
 ],
 "metadata": {
  "kernelspec": {
   "display_name": "Python 3",
   "language": "python",
   "name": "python3"
  },
  "language_info": {
   "codemirror_mode": {
    "name": "ipython",
    "version": 3
   },
   "file_extension": ".py",
   "mimetype": "text/x-python",
   "name": "python",
   "nbconvert_exporter": "python",
   "pygments_lexer": "ipython3",
   "version": "3.8.3"
  }
 },
 "nbformat": 4,
 "nbformat_minor": 4
}
