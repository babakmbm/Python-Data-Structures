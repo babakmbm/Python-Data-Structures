{
 "cells": [
  {
   "cell_type": "code",
   "execution_count": 1,
   "metadata": {},
   "outputs": [],
   "source": [
    "my_graph = {\n",
    "        'A':['B','C'],\n",
    "        'B':['C','D','E'],\n",
    "        'C':['D']\n",
    "           }"
   ]
  },
  {
   "cell_type": "code",
   "execution_count": 2,
   "metadata": {},
   "outputs": [],
   "source": [
    "def find_path(graph, start, end, path_so_far):\n",
    "    path_so_far = path_so_far+[start]\n",
    "    if start == end:\n",
    "        return path_so_far\n",
    "    if start not in graph:\n",
    "        return None\n",
    "    \n",
    "    for node in graph[start]:\n",
    "        if node not in path_so_far:\n",
    "            new_path = find_path(graph, node, end, path_so_far)\n",
    "            if new_path != None:\n",
    "                return new_path\n",
    "    return None"
   ]
  },
  {
   "cell_type": "code",
   "execution_count": 3,
   "metadata": {},
   "outputs": [
    {
     "data": {
      "text/plain": [
       "['A', 'B', 'C']"
      ]
     },
     "execution_count": 3,
     "metadata": {},
     "output_type": "execute_result"
    }
   ],
   "source": [
    "find_path(my_graph, 'A', 'C', [])"
   ]
  },
  {
   "cell_type": "code",
   "execution_count": 6,
   "metadata": {},
   "outputs": [],
   "source": [
    "# implementation of an undirected graph using Adjacency Matrix, with weighted or unweighted edges\n",
    "# its definitely work\n",
    "class Vertex:\n",
    "\tdef __init__(self, n):\n",
    "\t\tself.name = n\n",
    "\n",
    "class Graph:\n",
    "\tvertices = {}\n",
    "\tedges = []\n",
    "\tedge_indices = {}\n",
    "\t\n",
    "\tdef add_vertex(self, vertex):\n",
    "\t\tif isinstance(vertex, Vertex) and vertex.name not in self.vertices:\n",
    "\t\t\tself.vertices[vertex.name] = vertex\n",
    "\t\t\tfor row in self.edges:\n",
    "\t\t\t\trow.append(0)\n",
    "\t\t\tself.edges.append([0] * (len(self.edges)+1))\n",
    "\t\t\tself.edge_indices[vertex.name] = len(self.edge_indices)\n",
    "\t\t\treturn True\n",
    "\t\telse:\n",
    "\t\t\treturn False\n",
    "\t\n",
    "    def add_edge(self, u, v, weight=1):\n",
    "        if u in self.vertices and v in self.vertices:\n",
    "            self.edges[self.edge_indices[u]][self.edge_indices[v]] = weight\n",
    "            self.edges[self.edge_indices[v]][self.edge_indices[u]] = weight\n",
    "            return True\n",
    "        else:\n",
    "            return False\n",
    "            \n",
    "    def print_graph(self):\n",
    "        for v, i in sorted(self.edge_indices.items()):\n",
    "            print(v + ' ', end='')\n",
    "            for j in range(len(self.edges)):\n",
    "                print(self.edges[i][j], end='')\n",
    "            print(' ')    "
   ]
  },
  {
   "cell_type": "code",
   "execution_count": 5,
   "metadata": {},
   "outputs": [
    {
     "name": "stdout",
     "output_type": "stream",
     "text": [
      "A 0100100000 \n",
      "B 1000010000 \n",
      "C 0000001000 \n",
      "D 0000100100 \n",
      "E 1001000100 \n",
      "F 0100001011 \n",
      "G 0010010001 \n",
      "H 0001100010 \n",
      "I 0000010100 \n",
      "J 0000011000 \n"
     ]
    }
   ],
   "source": [
    "g = Graph()\n",
    "# print(str(len(g.vertices)))\n",
    "a = Vertex('A')\n",
    "g.add_vertex(a)\n",
    "g.add_vertex(Vertex('B'))\n",
    "for i in range(ord('A'), ord('K')):\n",
    "\tg.add_vertex(Vertex(chr(i)))\n",
    "\n",
    "edges = ['AB', 'AE', 'BF', 'CG', 'DE', 'DH', 'EH', 'FG', 'FI', 'FJ', 'GJ', 'HI']\n",
    "for edge in edges:\n",
    "\tg.add_edge(edge[:1], edge[1:])\n",
    "\n",
    "g.print_graph()"
   ]
  },
  {
   "cell_type": "code",
   "execution_count": null,
   "metadata": {},
   "outputs": [],
   "source": []
  }
 ],
 "metadata": {
  "kernelspec": {
   "display_name": "Python 3",
   "language": "python",
   "name": "python3"
  },
  "language_info": {
   "codemirror_mode": {
    "name": "ipython",
    "version": 3
   },
   "file_extension": ".py",
   "mimetype": "text/x-python",
   "name": "python",
   "nbconvert_exporter": "python",
   "pygments_lexer": "ipython3",
   "version": "3.8.3"
  }
 },
 "nbformat": 4,
 "nbformat_minor": 4
}
