{
 "cells": [
  {
   "cell_type": "markdown",
   "metadata": {},
   "source": [
    "<img src=\"graph_diagram.png\">"
   ]
  },
  {
   "cell_type": "code",
   "execution_count": 42,
   "metadata": {},
   "outputs": [],
   "source": [
    "'''\n",
    "The Vertex class uses a dictionary (adjacent) to keep track of the vertices to which it is connected, \n",
    "and the weight of each edge. The Vertex constructor initializes the id, which is usually a string, \n",
    "and the adjacent dictionary. The add_neighbor() method is used add a connection from this vertex to another. \n",
    "The get_connections() method returns all of the vertices in the adjacency list. \n",
    "The get_weight() method returns the weight of the edge from this vertex to the vertex passed as a parameter.\n",
    "'''\n",
    "\n",
    "class Vertex:\n",
    "    # the constructor takes a label as input and gives it as an id to the vertex\n",
    "    def __init__(self, label):\n",
    "        self.id = label\n",
    "        # dictionary of all the adjacent vertecies for this vertex (adjacency)\n",
    "        self.adjacent = {}\n",
    "\n",
    "    # using the id to print out all the adjacent nodes for a particular node\n",
    "    # we write this so we can simply loop through the list by calling on self.id\n",
    "    def __str__(self):\n",
    "        return str(self.id) + ' adjacent: ' + str([x.id for x in self.adjacent])\n",
    "    \n",
    "    # this will add a neighbour with a weight to the adjacency dictionary of the vertext \n",
    "    def add_neighbor(self, neighbor, weight=0):\n",
    "        self.adjacent[neighbor] = weight\n",
    "\n",
    "    # get the connections for the vertex\n",
    "    def get_connections(self):\n",
    "        return self.adjacent.keys()  \n",
    "\n",
    "    # get id (label of the vertex)\n",
    "    def get_id(self):\n",
    "        return self.id\n",
    "\n",
    "    # get the cost of transition to a neighbour\n",
    "    def get_weight(self, neighbor):\n",
    "        return self.adjacent[neighbor]\n",
    "    \n",
    "    \n",
    "'''\n",
    "The Graph class contains a dictionary(vert-dict) that maps vertex names to vertex objects, \n",
    "and we can see the output by the __str__() method of Vertex class\n",
    "'''\n",
    "class Graph:\n",
    "    def __init__(self):\n",
    "        self.vert_dict = {}\n",
    "        self.num_vertices = 0\n",
    "\n",
    "    # the __iter__() method to make it easy to iterate over all the vertex objects in a particular graph    \n",
    "    def __iter__(self):\n",
    "        return iter(self.vert_dict.values())\n",
    "\n",
    "    # takes the node label as input\n",
    "    def add_vertex(self, label):\n",
    "        # we first add 1 to the number of vertecies\n",
    "        self.num_vertices = self.num_vertices + 1\n",
    "        # create a new vertex\n",
    "        new_vertex = Vertex(label)\n",
    "        # add an entry to the dictionary of vertecies in the graph\n",
    "        self.vert_dict[label] = new_vertex\n",
    "        # return the new vertex\n",
    "        return new_vertex\n",
    "\n",
    "    # gets the label and returns it if it exists \n",
    "    def get_vertex(self, label):\n",
    "        if label in self.vert_dict:\n",
    "            return self.vert_dict[label]\n",
    "        else:\n",
    "            print(\"No vertex with that label\")\n",
    "            return None\n",
    "\n",
    "    # adds an edge with a cost from one vertex to the next\n",
    "    def add_edge(self, frmVertex, toVertex, cost = 0):\n",
    "        # if the from vertext does not exit it adds it to the vertex dictionary\n",
    "        if frmVertex not in self.vert_dict:\n",
    "            self.add_vertex(frmVertex)\n",
    "        # if to vertext does not exist it adds it to the vertex dictionary\n",
    "        if toVertex not in self.vert_dict:\n",
    "            self.add_vertex(toVertex)\n",
    "\n",
    "        # adds the toVertext to the fromVertex adjacency dictionary\n",
    "        self.vert_dict[frmVertex].add_neighbor(self.vert_dict[toVertex], cost)\n",
    "        # adds the fromVertext to the  toVertex adjacency dictionary\n",
    "        self.vert_dict[toVertex].add_neighbor(self.vert_dict[frmVertex], cost)\n",
    "\n",
    "    # returns the names of all of the vertices in the graph\n",
    "    def get_vertices(self):\n",
    "        return self.vert_dict.keys()\n",
    "\n"
   ]
  },
  {
   "cell_type": "code",
   "execution_count": 46,
   "metadata": {},
   "outputs": [
    {
     "name": "stdout",
     "output_type": "stream",
     "text": [
      "a adjacent: ['b', 'c', 'f']\n",
      "b adjacent: ['a', 'c', 'd']\n",
      "c adjacent: ['a', 'b', 'd', 'f']\n",
      "d adjacent: ['b', 'c', 'e']\n",
      "e adjacent: ['d', 'f']\n",
      "f adjacent: ['a', 'c', 'e']\n",
      "a b 7\n",
      "a c 9\n",
      "a f 14\n",
      "b a 7\n",
      "b c 10\n",
      "b d 15\n",
      "c a 9\n",
      "c b 10\n",
      "c d 11\n",
      "c f 2\n",
      "d b 15\n",
      "d c 11\n",
      "d e 6\n",
      "e d 6\n",
      "e f 9\n",
      "f a 14\n",
      "f c 2\n",
      "f e 9\n"
     ]
    }
   ],
   "source": [
    "    g = Graph()\n",
    "\n",
    "    g.add_vertex('a')\n",
    "    g.add_vertex('b')\n",
    "    g.add_vertex('c')\n",
    "    g.add_vertex('d')\n",
    "    g.add_vertex('e')\n",
    "    g.add_vertex('f')\n",
    "\n",
    "    g.add_edge('a', 'b', 7)  \n",
    "    g.add_edge('a', 'c', 9)\n",
    "    g.add_edge('a', 'f', 14)\n",
    "    g.add_edge('b', 'c', 10)\n",
    "    g.add_edge('b', 'd', 15)\n",
    "    g.add_edge('c', 'd', 11)\n",
    "    g.add_edge('c', 'f', 2)\n",
    "    g.add_edge('d', 'e', 6)\n",
    "    g.add_edge('e', 'f', 9)\n",
    "\n",
    "    # print the adjacent dictopnary for each vertex \n",
    "    for v in g:\n",
    "        print(g.vert_dict[v.get_id()])\n",
    "        \n",
    "    # print the edges and their weights\n",
    "    for v in g:\n",
    "        for w in v.get_connections():\n",
    "            vid = v.get_id()\n",
    "            wid = w.get_id()\n",
    "            print( vid, wid, v.get_weight(w))"
   ]
  },
  {
   "cell_type": "code",
   "execution_count": 44,
   "metadata": {},
   "outputs": [
    {
     "data": {
      "text/plain": [
       "<__main__.Vertex at 0x1b0241fbc70>"
      ]
     },
     "execution_count": 44,
     "metadata": {},
     "output_type": "execute_result"
    }
   ],
   "source": [
    "g.get_vertex(\"a\")"
   ]
  },
  {
   "cell_type": "code",
   "execution_count": 45,
   "metadata": {},
   "outputs": [
    {
     "name": "stdout",
     "output_type": "stream",
     "text": [
      "No vertex with that label\n"
     ]
    }
   ],
   "source": [
    "g.get_vertex(\"z\")"
   ]
  },
  {
   "cell_type": "code",
   "execution_count": 38,
   "metadata": {},
   "outputs": [
    {
     "name": "stdout",
     "output_type": "stream",
     "text": [
      "a\n",
      "e\n",
      "i\n",
      "o\n",
      "u\n"
     ]
    }
   ],
   "source": [
    "'''The __iter__() function returns an iterator for the given object (array, set, tuple, etc. or custom objects). \n",
    "It creates an object that can be accessed one element at a time using __next__() \n",
    "function, which generally comes in handy when dealing with loops.'''\n",
    "\n",
    "# Python code demonstrating\n",
    "# basic use of iter()\n",
    "listA = ['a','e','i','o','u']\n",
    " \n",
    "iter_listA = iter(listA)\n",
    " \n",
    "try:\n",
    "    print( next(iter_listA))\n",
    "    print( next(iter_listA))\n",
    "    print( next(iter_listA))\n",
    "    print( next(iter_listA))\n",
    "    print( next(iter_listA))\n",
    "    print( next(iter_listA)) #StopIteration error\n",
    "except:\n",
    "    pass"
   ]
  },
  {
   "cell_type": "code",
   "execution_count": null,
   "metadata": {},
   "outputs": [],
   "source": []
  }
 ],
 "metadata": {
  "kernelspec": {
   "display_name": "Python 3",
   "language": "python",
   "name": "python3"
  },
  "language_info": {
   "codemirror_mode": {
    "name": "ipython",
    "version": 3
   },
   "file_extension": ".py",
   "mimetype": "text/x-python",
   "name": "python",
   "nbconvert_exporter": "python",
   "pygments_lexer": "ipython3",
   "version": "3.8.3"
  }
 },
 "nbformat": 4,
 "nbformat_minor": 4
}
