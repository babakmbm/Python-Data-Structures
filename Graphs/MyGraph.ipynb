{
 "cells": [
  {
   "cell_type": "code",
   "execution_count": 89,
   "metadata": {},
   "outputs": [],
   "source": [
    "dic={\n",
    "    \"A\": ['B']\n",
    "}"
   ]
  },
  {
   "cell_type": "markdown",
   "metadata": {},
   "source": [
    "<img src=\"example.png\">"
   ]
  },
  {
   "cell_type": "code",
   "execution_count": 1,
   "metadata": {},
   "outputs": [],
   "source": [
    "# We create a class for the graph \n",
    "class Graph:\n",
    "    # we create a constructor\n",
    "    def __init__(self):\n",
    "        # Because we are using adjacency list for representing the graph we first create an empty dictionary\n",
    "        self.adj_list = {}\n",
    "        \n",
    "    # This method creates a vertext (node) in the graph with an empty list\n",
    "    # this takes a vertex as input\n",
    "    def add_vertex(self, vertex):\n",
    "        # if the vertex is not already in the adjacency list\n",
    "        if vertex not in self.adj_list.keys():\n",
    "            # we add the vertex to our list\n",
    "            self.adj_list[vertex] = []\n",
    "            return True\n",
    "        return False\n",
    "\n",
    "    # this method enables us to print out the graph\n",
    "    def print_graph(self):\n",
    "        for vertex in self.adj_list:\n",
    "            print(vertex, ':', self.adj_list[vertex])\n",
    "\n",
    "    \n",
    "    # This adds an edge between two vertecies\n",
    "    def add_edge(self, v1, v2):\n",
    "        # we check if vertex 1 (v1) and vertex2(v2) both exist in the graph \n",
    "        # if they do \n",
    "        if v1 in self.adj_list.keys() and v2 in self.adj_list.keys():\n",
    "            # we add vertex 2 to the list of vertex 1\n",
    "            self.adj_list[v1].append(v2)\n",
    "            # and we add vertex 1 to the list of vertex 2\n",
    "            self.adj_list[v2].append(v1)\n",
    "            return True\n",
    "        return False\n",
    "\n",
    "    # this removes the edge between 'A' and 'B'\n",
    "    def remove_edge(self, v1, v2):\n",
    "        # if v1 and v2 exist in the graph\n",
    "        if v1 in self.adj_list.keys() and v2 in self.adj_list.keys(): \n",
    "            try:\n",
    "                # we remove v2 from the list of v1\n",
    "                self.adj_list[v1].remove(v2)\n",
    "                # we remove v1 from list of v2\n",
    "                self.adj_list[v2].remove(v1)\n",
    "            # if not we will send a value system error \n",
    "            except ValueError:\n",
    "                print(f\"There is no edge between {v1} and {v2}\")\n",
    "            return True\n",
    "        return False\n",
    "\n",
    "    # This is to remove a vertex \n",
    "    # to remove the vertex we need to delete all the edges \n",
    "    # from the other vertecies lists and then remove the \n",
    "    # vertex from the dictionary\n",
    "    \n",
    "    def remove_vertex(self, vertex):\n",
    "        # if vertex is in the dictionary \n",
    "        if vertex in self.adj_list.keys():\n",
    "            # this for loop goes through the list of edges \n",
    "            # associated with the vertex we want to delete\n",
    "            for edge_vertex in self.adj_list[vertex]:\n",
    "                # we remove the vertext from the list of the edge vertex \n",
    "                self.adj_list[edge_vertex].remove(vertex)\n",
    "            # we delete the vertex adjacency list from the dictionary \n",
    "            del self.adj_list[vertex]\n",
    "            return True\n",
    "        return False"
   ]
  },
  {
   "cell_type": "code",
   "execution_count": 2,
   "metadata": {},
   "outputs": [],
   "source": [
    "my_graph =Graph()"
   ]
  },
  {
   "cell_type": "code",
   "execution_count": 3,
   "metadata": {},
   "outputs": [
    {
     "data": {
      "text/plain": [
       "True"
      ]
     },
     "execution_count": 3,
     "metadata": {},
     "output_type": "execute_result"
    }
   ],
   "source": [
    "my_graph.add_vertex('A')\n",
    "my_graph.add_vertex('B')"
   ]
  },
  {
   "cell_type": "code",
   "execution_count": 4,
   "metadata": {},
   "outputs": [
    {
     "name": "stdout",
     "output_type": "stream",
     "text": [
      "A : []\n",
      "B : []\n"
     ]
    }
   ],
   "source": [
    "my_graph.print_graph()"
   ]
  },
  {
   "cell_type": "code",
   "execution_count": 5,
   "metadata": {},
   "outputs": [
    {
     "name": "stdout",
     "output_type": "stream",
     "text": [
      "A : []\n",
      "B : []\n"
     ]
    }
   ],
   "source": [
    "my_graph.add_edge('1', '2')\n",
    "my_graph.print_graph()"
   ]
  },
  {
   "cell_type": "code",
   "execution_count": null,
   "metadata": {},
   "outputs": [],
   "source": []
  },
  {
   "cell_type": "code",
   "execution_count": 6,
   "metadata": {},
   "outputs": [
    {
     "name": "stdout",
     "output_type": "stream",
     "text": [
      "A : ['B']\n",
      "B : ['A']\n"
     ]
    }
   ],
   "source": [
    "my_graph.add_edge('A', 'B')\n",
    "my_graph.print_graph()"
   ]
  },
  {
   "cell_type": "code",
   "execution_count": 7,
   "metadata": {},
   "outputs": [
    {
     "name": "stdout",
     "output_type": "stream",
     "text": [
      "A : []\n",
      "B : []\n",
      "C : []\n",
      "D : []\n"
     ]
    }
   ],
   "source": [
    "your_graph = Graph()\n",
    "your_graph.add_vertex('A')\n",
    "your_graph.add_vertex('B')\n",
    "your_graph.add_vertex('C')\n",
    "your_graph.add_vertex('D')\n",
    "your_graph.print_graph()"
   ]
  },
  {
   "cell_type": "code",
   "execution_count": 8,
   "metadata": {},
   "outputs": [
    {
     "name": "stdout",
     "output_type": "stream",
     "text": [
      "A : ['B', 'C', 'D']\n",
      "B : ['A', 'D']\n",
      "C : ['A', 'D']\n",
      "D : ['A', 'B', 'C']\n"
     ]
    }
   ],
   "source": [
    "your_graph.add_edge('A','B')\n",
    "your_graph.add_edge('A','C')\n",
    "your_graph.add_edge('A','D')\n",
    "your_graph.add_edge('B','D')\n",
    "your_graph.add_edge('C','D')\n",
    "your_graph.print_graph()"
   ]
  },
  {
   "cell_type": "code",
   "execution_count": 9,
   "metadata": {},
   "outputs": [
    {
     "name": "stdout",
     "output_type": "stream",
     "text": [
      "A : ['C', 'D']\n",
      "B : ['D']\n",
      "C : ['A', 'D']\n",
      "D : ['A', 'B', 'C']\n"
     ]
    }
   ],
   "source": [
    "your_graph.remove_edge('A', 'B')\n",
    "your_graph.print_graph()"
   ]
  },
  {
   "cell_type": "code",
   "execution_count": 10,
   "metadata": {},
   "outputs": [
    {
     "name": "stdout",
     "output_type": "stream",
     "text": [
      "A : ['C', 'D']\n",
      "B : ['D']\n",
      "C : ['A', 'D']\n",
      "D : ['A', 'B', 'C']\n",
      "P : []\n"
     ]
    }
   ],
   "source": [
    "your_graph.add_vertex('P')\n",
    "your_graph.print_graph()"
   ]
  },
  {
   "cell_type": "code",
   "execution_count": 11,
   "metadata": {},
   "outputs": [
    {
     "name": "stdout",
     "output_type": "stream",
     "text": [
      "There is no edge between A and P\n"
     ]
    },
    {
     "data": {
      "text/plain": [
       "True"
      ]
     },
     "execution_count": 11,
     "metadata": {},
     "output_type": "execute_result"
    }
   ],
   "source": [
    "your_graph.remove_edge('A', 'P')"
   ]
  },
  {
   "cell_type": "code",
   "execution_count": 12,
   "metadata": {},
   "outputs": [
    {
     "name": "stdout",
     "output_type": "stream",
     "text": [
      "A : ['C', 'D']\n",
      "B : ['D']\n",
      "C : ['A', 'D']\n",
      "D : ['A', 'B', 'C']\n",
      "P : []\n"
     ]
    }
   ],
   "source": [
    "your_graph.print_graph()"
   ]
  },
  {
   "cell_type": "code",
   "execution_count": 13,
   "metadata": {},
   "outputs": [
    {
     "name": "stdout",
     "output_type": "stream",
     "text": [
      "B : ['D']\n",
      "C : ['D']\n",
      "D : ['B', 'C']\n",
      "P : []\n"
     ]
    }
   ],
   "source": [
    "your_graph.remove_vertex('A')\n",
    "your_graph.print_graph()"
   ]
  },
  {
   "cell_type": "code",
   "execution_count": 14,
   "metadata": {},
   "outputs": [
    {
     "name": "stdout",
     "output_type": "stream",
     "text": [
      "B : ['D']\n",
      "C : ['D']\n",
      "D : ['B', 'C']\n"
     ]
    }
   ],
   "source": [
    "your_graph.remove_vertex('P')\n",
    "your_graph.print_graph()"
   ]
  },
  {
   "cell_type": "code",
   "execution_count": null,
   "metadata": {},
   "outputs": [],
   "source": []
  }
 ],
 "metadata": {
  "kernelspec": {
   "display_name": "Python 3",
   "language": "python",
   "name": "python3"
  },
  "language_info": {
   "codemirror_mode": {
    "name": "ipython",
    "version": 3
   },
   "file_extension": ".py",
   "mimetype": "text/x-python",
   "name": "python",
   "nbconvert_exporter": "python",
   "pygments_lexer": "ipython3",
   "version": "3.8.3"
  }
 },
 "nbformat": 4,
 "nbformat_minor": 4
}
