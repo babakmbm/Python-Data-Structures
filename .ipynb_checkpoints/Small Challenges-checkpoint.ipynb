{
 "cells": [
  {
   "cell_type": "markdown",
   "metadata": {},
   "source": [
    "### Middle letter\n",
    "Write a function named mid that takes a string as its parameter. Your function should extract and return the middle letter. If there is no middle letter, your function should return the empty string.\n",
    "\n",
    "For example, mid(\"abc\") should return \"b\" and mid(\"aaaa\") should return \"\"."
   ]
  },
  {
   "cell_type": "code",
   "execution_count": 5,
   "metadata": {},
   "outputs": [
    {
     "data": {
      "text/plain": [
       "'b'"
      ]
     },
     "execution_count": 5,
     "metadata": {},
     "output_type": "execute_result"
    }
   ],
   "source": [
    "def mid(s):\n",
    "    length = len(s)\n",
    "    if length %2 == 0:\n",
    "        return \"\"\n",
    "    else:\n",
    "        return s[int(length/2)]\n",
    "    \n",
    "mid(\"abc\")"
   ]
  },
  {
   "cell_type": "markdown",
   "metadata": {},
   "source": [
    "### Online status\n",
    "The aim of this challenge is, given a dictionary of people's online status, to count the number of people who are online.\n",
    "\n",
    "For example, consider the following dictionary:\n",
    "<code>\n",
    "statuses = {\n",
    "    \"Alice\": \"online\",\n",
    "    \"Bob\": \"offline\",\n",
    "    \"Eve\": \"online\",\n",
    "}\n",
    "</code>\n",
    "In this case, the number of people online is 2.\n",
    "\n",
    "Write a function named online_count that takes one parameter. The parameter is a dictionary that maps from strings of names to the string \"online\" or \"offline\", as seen above.\n",
    "\n",
    "Your function should return the number of people who are online."
   ]
  },
  {
   "cell_type": "code",
   "execution_count": 11,
   "metadata": {},
   "outputs": [
    {
     "data": {
      "text/plain": [
       "3"
      ]
     },
     "execution_count": 11,
     "metadata": {},
     "output_type": "execute_result"
    }
   ],
   "source": [
    "def online_count(dic):\n",
    "    online_counter = 0\n",
    "    for key in dic:\n",
    "        if dic[key] == \"online\":\n",
    "            online_counter+=1\n",
    "    return online_counter\n",
    "        \n",
    "statuses = {\n",
    "    \"Alice\": \"online\",\n",
    "    \"Bob\": \"offline\",\n",
    "    \"Eve\": \"online\",\n",
    "    \"babak\": \"online\",\n",
    "}\n",
    "\n",
    "online_count(statuses)"
   ]
  },
  {
   "cell_type": "markdown",
   "metadata": {},
   "source": [
    "### Randomness\n",
    "Define a function, random_number, that takes no parameters. The function must generate a random integer between 1 and 100, both inclusive, and return it.\n",
    "\n",
    "Calling the function multiple times should (usually) return different numbers.\n",
    "\n",
    "For example, calling random_number() some times might first return 42, then 63, then 1."
   ]
  },
  {
   "cell_type": "code",
   "execution_count": 20,
   "metadata": {},
   "outputs": [
    {
     "data": {
      "text/plain": [
       "36"
      ]
     },
     "execution_count": 20,
     "metadata": {},
     "output_type": "execute_result"
    }
   ],
   "source": [
    "from random import randint\n",
    "def random_number():\n",
    "    return randint(1,100)\n",
    "\n",
    "random_number()"
   ]
  },
  {
   "cell_type": "markdown",
   "metadata": {},
   "source": [
    "### Type check\n",
    "Write a function named only_ints that takes two parameters. Your function should return True if both parameters are integers, and False otherwise.\n",
    "\n",
    "For example, calling only_ints(1, 2) should return True, while calling only_ints(\"a\", 1) should return False."
   ]
  },
  {
   "cell_type": "code",
   "execution_count": 29,
   "metadata": {
    "scrolled": true
   },
   "outputs": [
    {
     "name": "stdout",
     "output_type": "stream",
     "text": [
      "True False\n"
     ]
    }
   ],
   "source": [
    "def only_ints(a, b):\n",
    "    if type(a) is int and type(b) is int:\n",
    "        return True\n",
    "    else:\n",
    "        return False\n",
    "print(only_ints(1, 2), only_ints(\"a\", 1))"
   ]
  },
  {
   "cell_type": "markdown",
   "metadata": {},
   "source": [
    "### Double letters\n",
    "The goal of this challenge is to analyze a string to check if it contains two of the same letter in a row. For example, the string \"hello\" has l twice in a row, while the string \"nono\" does not have two identical letters in a row.\n",
    "\n",
    "Define a function named double_letters that takes a single parameter. The parameter is a string. Your function must return True if there are two identical letters in a row in the string, and False otherwise."
   ]
  },
  {
   "cell_type": "code",
   "execution_count": 39,
   "metadata": {},
   "outputs": [
    {
     "data": {
      "text/plain": [
       "True"
      ]
     },
     "execution_count": 39,
     "metadata": {},
     "output_type": "execute_result"
    }
   ],
   "source": [
    "def double_letters(s):\n",
    "    for i in range(1, len(s)):\n",
    "        if s[i]==s[i-1]:\n",
    "            return True\n",
    "    return False\n",
    "double_letters(\"babaak\")"
   ]
  },
  {
   "cell_type": "markdown",
   "metadata": {},
   "source": [
    "### Thousands separator\n",
    "Write a function named format_number that takes a non-negative number as its only parameter.\n",
    "\n",
    "Your function should convert the number to a string and add commas as a thousands separator.\n",
    "\n",
    "For example, calling format_number(1000000) should return \"1,000,000\"."
   ]
  },
  {
   "cell_type": "code",
   "execution_count": 396,
   "metadata": {},
   "outputs": [
    {
     "data": {
      "text/plain": [
       "'1,234,567,891,234,567'"
      ]
     },
     "execution_count": 396,
     "metadata": {},
     "output_type": "execute_result"
    }
   ],
   "source": [
    "def format_number(number):\n",
    "    count = 0\n",
    "    Num=\"\"\n",
    "    number = str(number)\n",
    "    for i in range(len(number)-1, -1,-1):\n",
    "        count+=1;\n",
    "        if count == 3 and i!=0:\n",
    "            Num = Num + number[i] + ','\n",
    "            count = 0\n",
    "        else:\n",
    "            Num = Num + number[i]\n",
    "                \n",
    "    return Num[::-1]\n",
    "format_number(1234567891234567) #1,234,567,891,234,567"
   ]
  }
 ],
 "metadata": {
  "kernelspec": {
   "display_name": "Python 3",
   "language": "python",
   "name": "python3"
  },
  "language_info": {
   "codemirror_mode": {
    "name": "ipython",
    "version": 3
   },
   "file_extension": ".py",
   "mimetype": "text/x-python",
   "name": "python",
   "nbconvert_exporter": "python",
   "pygments_lexer": "ipython3",
   "version": "3.8.3"
  }
 },
 "nbformat": 4,
 "nbformat_minor": 4
}
