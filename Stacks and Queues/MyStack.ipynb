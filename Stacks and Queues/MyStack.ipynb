{
 "cells": [
  {
   "cell_type": "markdown",
   "metadata": {},
   "source": [
    "<img src=\"stack.png\" style=\"width:300px;\"><img src=\"stack2.png\" style=\"width:300px;\">"
   ]
  },
  {
   "cell_type": "code",
   "execution_count": 2,
   "metadata": {},
   "outputs": [],
   "source": [
    "# we create a stack as a singly linked list \n",
    "# a linked list needs noeds \n",
    "# Stack is LIFO: So last item in first item out\n",
    "class Node:\n",
    "    def __init__(self, value):\n",
    "        self.value = value\n",
    "        self.next = None\n",
    "        \n",
    "# in stack we don't have head and tail pointers \n",
    "# we only have one pointer called top because we can only take away from the top\n",
    "class Stack:\n",
    "    def __init__(self, value):\n",
    "        # we create the first node\n",
    "        new_node = Node(value)\n",
    "        # we point the top ptr to the new node\n",
    "        self.top = new_node\n",
    "        # height is like the length in linked list\n",
    "        self.height = 1\n",
    "    \n",
    "    def print_stack(self):\n",
    "        # we point the temp to the top of the stack\n",
    "        temp = self.top\n",
    "        while temp is not None:\n",
    "            print(temp.value)\n",
    "            temp = temp.next\n",
    "            \n",
    "    # when we puth we push on the top of the stack\n",
    "    def push(self, value):\n",
    "        new_node = Node(value)\n",
    "        if self.height == 0:\n",
    "            self.top = new_node\n",
    "        else:\n",
    "            new_node.next = self.top\n",
    "            self.top = new_node\n",
    "        self.height += 1\n",
    "        return True\n",
    "    \n",
    "    def pop(self):\n",
    "        if self.height == 0:\n",
    "            return None\n",
    "        temp = self.top\n",
    "        self.top = self.top.next\n",
    "        temp.next = None\n",
    "        self.height -= 1\n",
    "        return temp\n",
    "    \n",
    "\n",
    "\n"
   ]
  },
  {
   "cell_type": "code",
   "execution_count": 3,
   "metadata": {},
   "outputs": [
    {
     "name": "stdout",
     "output_type": "stream",
     "text": [
      "<__main__.Node object at 0x00000292B0D4A310> \n",
      "\n",
      "3\n",
      "23\n",
      "7\n"
     ]
    }
   ],
   "source": [
    "my_stack = Stack(7)\n",
    "my_stack.push(23)\n",
    "my_stack.push(3)\n",
    "my_stack.push(11)\n",
    "\n",
    "print(my_stack.pop(), '\\n')\n",
    "\n",
    "my_stack.print_stack()"
   ]
  },
  {
   "cell_type": "code",
   "execution_count": null,
   "metadata": {},
   "outputs": [],
   "source": []
  }
 ],
 "metadata": {
  "kernelspec": {
   "display_name": "Python 3",
   "language": "python",
   "name": "python3"
  },
  "language_info": {
   "codemirror_mode": {
    "name": "ipython",
    "version": 3
   },
   "file_extension": ".py",
   "mimetype": "text/x-python",
   "name": "python",
   "nbconvert_exporter": "python",
   "pygments_lexer": "ipython3",
   "version": "3.8.3"
  }
 },
 "nbformat": 4,
 "nbformat_minor": 4
}
