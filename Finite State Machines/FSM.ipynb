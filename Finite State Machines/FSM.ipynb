{
 "cells": [
  {
   "cell_type": "markdown",
   "metadata": {},
   "source": [
    "Imagine you are looking at your password protected phone, at a high-level it has two states of operation. The first being locked, where you have limited functionality and the second being unlocked, where you can now use the device in a greater capacity.\n",
    "\n",
    "This is what the above state machine looks like when visualized.\n",
    "<img src=\"1.png\" />\n",
    "\n",
    "### We begin by defining the states \n",
    "\n",
    "these are defined as the nodes within the state machine. In our case, we have two states; locked & unlocked. In the example below, I've also defined a State object which will handle some utility functions for our states (which extend from this object).\n",
    "\n"
   ]
  },
  {
   "cell_type": "code",
   "execution_count": 56,
   "metadata": {},
   "outputs": [],
   "source": [
    "class State():\n",
    "    \"\"\"\n",
    "    We define a state object which provides some utility functions for the\n",
    "    individual states within the state machine.\n",
    "    \"\"\"\n",
    "\n",
    "    def __init__(self):\n",
    "        print ('Processing current state:', str(self))\n",
    "\n",
    "    def on_event(self, event):\n",
    "        \"\"\"\n",
    "        Handle events that are delegated to this State.\n",
    "        \"\"\"\n",
    "        pass\n",
    "\n",
    "    def __repr__(self):\n",
    "        \"\"\"\n",
    "        Leverages the __str__ method to describe the State.\n",
    "        \"\"\"\n",
    "        return self.__str__()\n",
    "\n",
    "    def __str__(self):\n",
    "        \"\"\"\n",
    "        Returns the name of the State.\n",
    "        \"\"\"\n",
    "        return self.__class__.__name__\n",
    "    \n",
    "\n",
    "#The states can then be defined as follows.\n",
    "# Start of our states\n",
    "# they use inheritence\n",
    "class LockedState(State):\n",
    "    \"\"\"\n",
    "    The state which indicates that there are limited device capabilities.\n",
    "    \"\"\"\n",
    "\n",
    "    def on_event(self, event):\n",
    "        if event == 'pin_entered':\n",
    "            return UnlockedState()\n",
    "\n",
    "        return self\n",
    "\n",
    "\n",
    "class UnlockedState(State):\n",
    "    \"\"\"\n",
    "    The state which indicates that there are no limitations on device\n",
    "    capabilities.\n",
    "    \"\"\"\n",
    "\n",
    "    def on_event(self, event):\n",
    "        if event == 'device_locked':\n",
    "            return LockedState()\n",
    "\n",
    "        return self"
   ]
  },
  {
   "cell_type": "markdown",
   "metadata": {},
   "source": [
    "### Then we define the actual state machine. It's fairly simple and looks like this:"
   ]
  },
  {
   "cell_type": "code",
   "execution_count": 57,
   "metadata": {},
   "outputs": [],
   "source": [
    "class FSM():\n",
    "    \"\"\" \n",
    "    A simple state machine that mimics the functionality of a device from a \n",
    "    high level.\n",
    "    \"\"\"\n",
    "\n",
    "    def __init__(self):\n",
    "        \"\"\" Initialize the components. \"\"\"\n",
    "\n",
    "        # Start with a default state. is locked\n",
    "        self.state = LockedState()\n",
    "\n",
    "    def on_event(self, event):\n",
    "        \"\"\"\n",
    "        This is the bread and butter of the state machine. Incoming events are\n",
    "        delegated to the given states which then handle the event. The result is\n",
    "        then assigned as the new state.\n",
    "        \"\"\"\n",
    "\n",
    "        # The next state will be the result of the on_event function.\n",
    "        self.state = self.state.on_event(event)"
   ]
  },
  {
   "cell_type": "code",
   "execution_count": 58,
   "metadata": {},
   "outputs": [
    {
     "name": "stdout",
     "output_type": "stream",
     "text": [
      "Processing current state: LockedState\n"
     ]
    }
   ],
   "source": [
    "device = FSM()"
   ]
  },
  {
   "cell_type": "code",
   "execution_count": 59,
   "metadata": {},
   "outputs": [],
   "source": [
    "device.on_event('device_locked')"
   ]
  },
  {
   "cell_type": "code",
   "execution_count": 60,
   "metadata": {},
   "outputs": [
    {
     "name": "stdout",
     "output_type": "stream",
     "text": [
      "Processing current state: UnlockedState\n"
     ]
    }
   ],
   "source": [
    "device.on_event('pin_entered')"
   ]
  },
  {
   "cell_type": "code",
   "execution_count": 61,
   "metadata": {},
   "outputs": [
    {
     "data": {
      "text/plain": [
       "UnlockedState"
      ]
     },
     "execution_count": 61,
     "metadata": {},
     "output_type": "execute_result"
    }
   ],
   "source": [
    "device.state"
   ]
  },
  {
   "cell_type": "code",
   "execution_count": 62,
   "metadata": {},
   "outputs": [
    {
     "name": "stdout",
     "output_type": "stream",
     "text": [
      "Processing current state: LockedState\n"
     ]
    }
   ],
   "source": [
    "device.on_event('device_locked')"
   ]
  },
  {
   "cell_type": "code",
   "execution_count": 63,
   "metadata": {},
   "outputs": [
    {
     "data": {
      "text/plain": [
       "LockedState"
      ]
     },
     "execution_count": 63,
     "metadata": {},
     "output_type": "execute_result"
    }
   ],
   "source": [
    "device.state"
   ]
  },
  {
   "cell_type": "code",
   "execution_count": 64,
   "metadata": {},
   "outputs": [],
   "source": [
    "device.on_event('device_locked')"
   ]
  },
  {
   "cell_type": "code",
   "execution_count": 65,
   "metadata": {},
   "outputs": [
    {
     "data": {
      "text/plain": [
       "LockedState"
      ]
     },
     "execution_count": 65,
     "metadata": {},
     "output_type": "execute_result"
    }
   ],
   "source": [
    "device.state"
   ]
  },
  {
   "cell_type": "code",
   "execution_count": null,
   "metadata": {},
   "outputs": [],
   "source": []
  }
 ],
 "metadata": {
  "kernelspec": {
   "display_name": "Python 3",
   "language": "python",
   "name": "python3"
  },
  "language_info": {
   "codemirror_mode": {
    "name": "ipython",
    "version": 3
   },
   "file_extension": ".py",
   "mimetype": "text/x-python",
   "name": "python",
   "nbconvert_exporter": "python",
   "pygments_lexer": "ipython3",
   "version": "3.8.3"
  }
 },
 "nbformat": 4,
 "nbformat_minor": 4
}
